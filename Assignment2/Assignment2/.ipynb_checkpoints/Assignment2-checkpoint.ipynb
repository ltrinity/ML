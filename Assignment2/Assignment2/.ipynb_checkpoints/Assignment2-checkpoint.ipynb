{
 "cells": [
  {
   "cell_type": "markdown",
   "metadata": {},
   "source": [
    "# Getting Python\n",
    "\n",
    "\n",
    "For this course, we are going to use Jupyter notebook as our environment for developing Python code.\n",
    "refer to https://jupyter.readthedocs.io/en/latest/content-quickstart.html on the instructions how to install it, the easiest way is to install from Anaconda (https://www.anaconda.com/download/) website, make sure you install with Python 3.6.\n",
    "\n",
    "Also, it is good for the students who are not familiar with python (or they need a quick refreshment) to follow Jim Bagrow tutorial http://bagrow.com/ds1/whirlwindtourpython/00-Title.html. \n",
    "\n",
    "All the assignments to be written in Python 3.6 and can be run using Jupyter on one of the following Internet browsers (Chrome, Safari or Firefox), these are the browsers that officially supported by jupyter.\n",
    "\n",
    "<u> Note: for this assignment, submit your local copy of this page, running on IPython. Submit the file to Blackboard under Assignment2 using this file format:</u> <b>Yourfirstname_lastname_Assignment2.ipynb</b> \n",
    "\n",
    "#### <b>Deadline</b>: <u>October-1-2019 11:59 PM.</u>\n",
    "\n",
    "\n",
    "#### <font color='red'>NOTE: Please refer to the Ipython notebook named linearRegression.ipynb from class lecture. There are overlaps between that notebook and the assignment 2 </font>\n"
   ]
  },
  {
   "cell_type": "markdown",
   "metadata": {
    "collapsed": true
   },
   "source": [
    "#### Import your needed libraries in this cell"
   ]
  },
  {
   "cell_type": "code",
   "execution_count": 2,
   "metadata": {},
   "outputs": [],
   "source": [
    "import os\n",
    "import numpy as np\n",
    "import pandas as pd\n",
    "import matplotlib.pyplot as plt\n",
    "import math\n",
    "from sklearn.preprocessing import PolynomialFeatures\n",
    "%matplotlib inline"
   ]
  },
  {
   "cell_type": "markdown",
   "metadata": {},
   "source": [
    "# Assignment 2 -- Part 1(Logistic regression without regularization )\n",
    "\n",
    "In this exercise, you will implement logistic regression and apply it to dataset Assignment2_data1.txt\n",
    "\n",
    "Import and examine the dataset Assignment2_data1.txt. There are two continuous independent variables in the data - “Exam 1” and “Exam 2”. Our prediction target is the “Admitted” label, which is binary-valued. A value of 1 means the student was admitted and a value of 0 means the student was not admitted.\n",
    "\n",
    "In this part of the Assignment, you will build a logistic regression model to predict whether a student gets admitted into a university (a model that estimates an applicant’s probability of admission based the scores from those two exams)\n"
   ]
  },
  {
   "cell_type": "markdown",
   "metadata": {
    "collapsed": true
   },
   "source": [
    "### Part 1, Q1  -- 10%\n",
    "\n",
    "1. [5 points] Load the data and split it into X(features vector) and y(target/output vector).You can follow the way that has been shown in the class in the LinearRegression.ipynb. "
   ]
  },
  {
   "cell_type": "code",
   "execution_count": 3,
   "metadata": {},
   "outputs": [
    {
     "name": "stdout",
     "output_type": "stream",
     "text": [
      "(100, 3)\n",
      "(100, 1)\n",
      "[[0 0 0]]\n",
      "(1, 3)\n"
     ]
    }
   ],
   "source": [
    "#takes in a path name p and column names cols\n",
    "#returns a dataframe, feature and target vectors, and theta vector\n",
    "def readCSV(p,cols,dims):\n",
    "    localData = pd.read_csv(p, header=None, names=cols,index_col=False)\n",
    "    localData.insert(0, 'Ones', 1)\n",
    "    # set X (training data) and y (target variable)\n",
    "    cols = localData.shape[1]\n",
    "    localX = localData.iloc[:,0:cols-1] # iloc slicing function \n",
    "    localy = localData.iloc[:,cols-1:cols]\n",
    "    localX = np.matrix(localX.values)\n",
    "    localy = np.matrix(localy.values)\n",
    "    localTheta = np.matrix(np.array(dims*[0]))\n",
    "    return localData,localX,localy,localTheta\n",
    "path = os.getcwd() + '\\\\Assignment2_data1.txt'\n",
    "data,X,y,theta = readCSV(path,['Exam 1', 'Exam 2','admitted'],3)\n",
    "print (X.shape)\n",
    "print (y.shape)\n",
    "print (theta)\n",
    "print (theta.shape)"
   ]
  },
  {
   "cell_type": "markdown",
   "metadata": {},
   "source": [
    "2. [5 points] Visualize the data. \n",
    "For visualizing,exam 1 score will be in the X-axis, exam 2 score will be on the Y-axis. Put + (plus) for an admitted student, and circle for a student who was not admitted."
   ]
  },
  {
   "cell_type": "code",
   "execution_count": 4,
   "metadata": {},
   "outputs": [
    {
     "data": {
      "image/png": "[encoded data removed]",
      "text/plain": [
       "<Figure size 432x288 with 1 Axes>"
      ]
     },
     "metadata": {
      "needs_background": "light"
     },
     "output_type": "display_data"
    }
   ],
   "source": [
    "#begins the plot with markers and labels for admitted or not admitted students\n",
    "def beginPlot(d):\n",
    "    markers = ['o','+']\n",
    "    labels = ['not admitted','admitted']\n",
    "    #iterate using pandas where clause to scatter test scores by admission label\n",
    "    for i in range(2):\n",
    "        filter = d[\"admitted\"] == i\n",
    "        tmp = d.where(filter,inplace = False)\n",
    "        plt.scatter(tmp[\"Exam 1\"],tmp[\"Exam 2\"],marker=markers[i],label = labels[i])\n",
    "    plt.xlabel(\"Exam 1\")\n",
    "    plt.ylabel(\"Exam 2\")\n",
    "beginPlot(data)\n",
    "plt.legend()\n",
    "plt.show()"
   ]
  },
  {
   "cell_type": "markdown",
   "metadata": {},
   "source": [
    "### Part 1, Q2  -- 5%\n",
    "\n",
    "Before you start with the implementation of the cost function and gradient descent algorithm for logistic Regression, at first implement the function \"sigmoid\"  that can be called by the rest of your program. test it when you are finished, try testing a few values by calling sigmoid(x). For large positive values of x, the sigmoid should be close to 1, while for large negative values, the sigmoid should be close to 0. Evaluating sigmoid(0) should give you exactly 0.5."
   ]
  },
  {
   "cell_type": "code",
   "execution_count": 5,
   "metadata": {},
   "outputs": [],
   "source": [
    "#logistic sigmoid = 1/(1 + e^(-x))\n",
    "def sigmoid(x):\n",
    "    return (1 / (1 + np.exp(-x)))"
   ]
  },
  {
   "cell_type": "markdown",
   "metadata": {},
   "source": [
    "### Part 1, Q3   -- 10%\n",
    "\n",
    "\n",
    "\n",
    "1.  [5 points] Implement cost function (calcLogRegressionCost) as detailed in the cell below.\n",
    "\n",
    "2.  [5 points] gradient descent (logRegressionGradientDescent) as detailed in the cell below.   \n",
    "\n",
    "Hint: Once you are done,  call your \"calcLogRegressionCost\" using the initial parameters of θ. You should see that the cost is about 0.693.\n",
    "\n",
    "Note: no need to add the regularization term. "
   ]
  },
  {
   "cell_type": "code",
   "execution_count": 6,
   "metadata": {},
   "outputs": [
    {
     "data": {
      "text/plain": [
       "0.6931471805599453"
      ]
     },
     "execution_count": 6,
     "metadata": {},
     "output_type": "execute_result"
    }
   ],
   "source": [
    "#You can may change the number of parameters according to your wish for\n",
    "#all the funtions depending on your implementation.\n",
    "\n",
    "def calcLogRegressionCost(X, y, theta):\n",
    "    #X is the feature vector\n",
    "    #Y is the target vector/ output vector\n",
    "    #theta is the weight vector \n",
    "    leftInner = np.multiply(y,np.log(sigmoid(X*theta.T)))\n",
    "    rightInner = np.multiply((1-y),np.log(1-(sigmoid(X*theta.T))))\n",
    "    return (-1*np.sum((leftInner+rightInner)))*(1/X.shape[0])\n",
    "\n",
    "def logRegressionGradientDescent(X_, y_, theta0, alpha_,iterations_):\n",
    "    #X is the feature vector\n",
    "    #Y is the target vector/ output vector\n",
    "    #theta is the weight vector \n",
    "    #alpha is the learning rate\n",
    "    #iteration is the steps you want to take \n",
    "    #Start you code from here\n",
    "    temp = np.matrix(np.zeros(theta0.shape))\n",
    "    params = theta0.ravel().shape[1]\n",
    "    outcost = np.zeros(iterations_)\n",
    "    \n",
    "    for i in range(iterations_):\n",
    "        error = sigmoid(X_ * theta0.T) - y_ # h(x) - y where we take the sigmoid for h(x)\n",
    "        for j in range(params):\n",
    "            term = np.multiply(error,X_[:,j])\n",
    "            temp[0,j] = theta0[0,j] - ((alpha_ / len(X_))*np.sum(term))\n",
    "        theta0 = temp\n",
    "        outcost[i] = calcLogRegressionCost(X_, y_, theta0)\n",
    "    return theta0, outcost\n",
    "calcLogRegressionCost(X,y,theta)\n",
    "\n"
   ]
  },
  {
   "cell_type": "markdown",
   "metadata": {},
   "source": [
    "### Part 1, Q4   -- 20%\n",
    "\n",
    "As you have the gradient decent algorithm implemented,\n",
    "\n",
    "1. [3 Points] Run the gradient descent algorithm to fit your parameters theta to the training set.\n"
   ]
  },
  {
   "cell_type": "code",
   "execution_count": 7,
   "metadata": {},
   "outputs": [],
   "source": [
    "#this takes about 15 seconds to execute on my computer\n",
    "alpha = 0.001\n",
    "iters = 100000\n",
    "g, cost = logRegressionGradientDescent(X, y, theta, alpha, iters)"
   ]
  },
  {
   "cell_type": "markdown",
   "metadata": {},
   "source": [
    "2. [2 Points] Report optimal final θ."
   ]
  },
  {
   "cell_type": "markdown",
   "metadata": {},
   "source": [
    "## Optimal final $\\theta$ :\n",
    "## $\\theta_{0} = -4.81180027$\n",
    "## $\\theta_{1} = 0.04528064$\n",
    "## $\\theta_{2} = 0.03819149$"
   ]
  },
  {
   "cell_type": "code",
   "execution_count": 8,
   "metadata": {},
   "outputs": [
    {
     "name": "stdout",
     "output_type": "stream",
     "text": [
      "[[-4.81180027  0.04528064  0.03819149]]\n"
     ]
    }
   ],
   "source": [
    "print(g)"
   ]
  },
  {
   "cell_type": "markdown",
   "metadata": {},
   "source": [
    "\n",
    "3. [10 Points] Plot the cost with the number of iterations. what is the best learning rate you choosed and why ?"
   ]
  },
  {
   "cell_type": "code",
   "execution_count": 9,
   "metadata": {},
   "outputs": [
    {
     "data": {
      "image/png": "[encoded data removed]",
      "text/plain": [
       "<Figure size 432x288 with 1 Axes>"
      ]
     },
     "metadata": {
      "needs_background": "light"
     },
     "output_type": "display_data"
    }
   ],
   "source": [
    "plt.plot(cost,label=r\"$\\alpha = 0.001$\")\n",
    "plt.xlabel(\"Iterations\")\n",
    "plt.ylabel(\"Cost\")\n",
    "plt.legend()\n",
    "plt.show()"
   ]
  },
  {
   "cell_type": "markdown",
   "metadata": {},
   "source": [
    "## The learning rate I chose was $\\alpha = 0.001$. When I used a higher learning rate the algorithm did not converge. It turned out the GD algorithm could converge in this case with a large number of iterations and a value of $\\alpha$ close to 0."
   ]
  },
  {
   "cell_type": "markdown",
   "metadata": {},
   "source": [
    "4. [5 Points]  Plot the decision boundary with the training data.\n",
    "\n",
    "Hint: You can have a look at the following link for help:\n",
    "\n",
    "\n",
    "https://stackoverflow.com/questions/19054923/plot-decision-boundary-matplotlib"
   ]
  },
  {
   "cell_type": "code",
   "execution_count": 10,
   "metadata": {},
   "outputs": [
    {
     "data": {
      "image/png": "[encoded data removed]",
      "text/plain": [
       "<Figure size 432x288 with 1 Axes>"
      ]
     },
     "metadata": {
      "needs_background": "light"
     },
     "output_type": "display_data"
    }
   ],
   "source": [
    "beginPlot(data)\n",
    "#generate a rande of values\n",
    "x_coords = np.array([min(X[:,1]),max(X[:,1])])\n",
    "x_coords= np.asarray([x_coords[0,0],x_coords[1,0]])\n",
    "#produce the prediction using theta values\n",
    "y_coords = ((x_coords * g[0,1]) + g[0,0])*(-1/g[0,2])\n",
    "plt.plot(x_coords, y_coords, label = \"Decision Boundary\")\n",
    "plt.legend()\n",
    "plt.show()"
   ]
  },
  {
   "cell_type": "markdown",
   "metadata": {},
   "source": [
    "### Part 1, Q5  -- 10%\n",
    "At this point, you have the optimal theta.\n",
    "\n",
    "1. [5 Points] Implement the predict_proba function.\n"
   ]
  },
  {
   "cell_type": "code",
   "execution_count": 11,
   "metadata": {},
   "outputs": [
    {
     "name": "stdout",
     "output_type": "stream",
     "text": [
      "   Ones     Exam 1     Exam 2  admitted  predicts\n",
      "0     1  34.623660  78.024693         0  0.434346\n",
      "1     1  30.286711  43.894998         0  0.146292\n",
      "2     1  35.847409  72.902198         0  0.400265\n",
      "3     1  60.182599  86.308552         1  0.770221\n",
      "4     1  79.032736  75.344376         1  0.838128\n"
     ]
    }
   ],
   "source": [
    "def predict_proba(X,theta):\n",
    "    #you need to know the probability of a certain test sample to fall in a certain class.\n",
    "    #For this you need a function which will give you the probability.\n",
    "    #You just need to use the sigmoid function to get the probability.\n",
    "    return 1 / (1 + np.exp(-(X*theta.T)))\n",
    "\n",
    "#obtain predictions for all data\n",
    "predicts = np.ones((X.shape[0],1))\n",
    "g = g.reshape(1,X.shape[1])\n",
    "for j in range(0, X.shape[0]):\n",
    "    predicts[j] = predict_proba(X[j],g)\n",
    "predicts = predicts.reshape(X.shape[0])\n",
    "data[\"predicts\"] = predicts\n",
    "print(data.head(n=5))"
   ]
  },
  {
   "cell_type": "markdown",
   "metadata": {},
   "source": [
    "2. [5 Points] Suppose,a student has scored 100 in exam 1 and scored 50 in exam 2. Using the following predict_proba function find  the admission probability of this student."
   ]
  },
  {
   "cell_type": "code",
   "execution_count": 12,
   "metadata": {},
   "outputs": [
    {
     "name": "stdout",
     "output_type": "stream",
     "text": [
      "[[0.83559875]]\n"
     ]
    }
   ],
   "source": [
    "singlePrediction = predict_proba([1,100,50],g)\n",
    "print(singlePrediction)"
   ]
  },
  {
   "cell_type": "markdown",
   "metadata": {},
   "source": [
    "## Given our optimal theta and a student with scores of 100 and 50 on exams 1 and 2 respectively, our model predicts an admission probability of 83.559875%."
   ]
  },
  {
   "cell_type": "markdown",
   "metadata": {},
   "source": [
    "# Assignment 2 -- Part 2(Enhanced Logistic regression )\n",
    "\n",
    "In this part of the assignment, you will implement regularized logistic regression to predict whether microchips from a fabrication plant passes quality assurance(QA). During QA, each microchip goes through various tests to ensure it is functioning correctly.\n",
    "\n",
    "Import and examine the dataset Assignment2_data2.txt. Suppose you are the product manager of the factory and you have the test results for some microchips on two different tests. From these two tests, you would like to determine whether the microchips should be accepted or rejected. "
   ]
  },
  {
   "cell_type": "markdown",
   "metadata": {},
   "source": [
    "### Part 2, Q1 -- 5%\n",
    "\n",
    "Load the data and visualize it.(You can follow the steps from part1, Q1)\n",
    "\n",
    "For visualizing,test 1 score will be in the X-axis, test 2 score will be on the Y-axis. Put + (plus) for the accepted one, and circle for rejected one."
   ]
  },
  {
   "cell_type": "code",
   "execution_count": 33,
   "metadata": {},
   "outputs": [
    {
     "name": "stdout",
     "output_type": "stream",
     "text": [
      "(118, 3)\n",
      "(118, 1)\n",
      "[[0 0 0 0 0 0 0 0 0 0 0 0 0 0 0 0 0 0 0 0 0 0 0 0 0 0 0 0]]\n",
      "(1, 28)\n"
     ]
    },
    {
     "data": {
      "image/png": "[encoded data removed]",
      "text/plain": [
       "<Figure size 432x288 with 1 Axes>"
      ]
     },
     "metadata": {
      "needs_background": "light"
     },
     "output_type": "display_data"
    }
   ],
   "source": [
    "path2 = os.getcwd() + '\\\\Assignment2_data2.txt'\n",
    "data2,X2,y2,theta2 = readCSV(path2,['Exam 1', 'Exam 2','admitted'],28)\n",
    "print (X2.shape)\n",
    "print (y2.shape)\n",
    "print (theta2)\n",
    "print (theta2.shape)\n",
    "\n",
    "beginPlot(data2)\n",
    "plt.legend()\n",
    "plt.show()"
   ]
  },
  {
   "attachments": {
    "polyn6.png": {
     "image/png": "[encoded data removed]"
    }
   },
   "cell_type": "markdown",
   "metadata": {},
   "source": [
    "### Part 2, Q2 -- 15%\n",
    "One way to fit the data better is to create more features from each data\n",
    "point.  \n",
    "\n",
    "1. [10 Points] Map the features into all polynomial terms of x1 and x2 up to the sixth power.\n",
    "\n",
    "![polyn6.png](attachment:polyn6.png)\n"
   ]
  },
  {
   "cell_type": "code",
   "execution_count": 34,
   "metadata": {},
   "outputs": [],
   "source": [
    "#takes param degExpand = # degrees + 1\n",
    "#reshape indicates if being used to generate feature vector (True) or for decision boundary plotting (False)\n",
    "def generatePolynomialFeatures(inputX,degExpand,reshape):\n",
    "    if reshape:\n",
    "        polyFeatures = np.ones(len(inputX)).reshape(len(inputX),1)\n",
    "    else:\n",
    "        polyFeatures = np.ones(len(inputX))\n",
    "    for i in range(1,degExpand):\n",
    "        for j in range(i+1):\n",
    "            #difference in indexing base on size but core is exam1^(i-j) * exam2^(j)\n",
    "            if reshape:\n",
    "                leftPoly = np.power(inputX[:,1],(i-j))\n",
    "                rightPoly = np.power(inputX[:,2],j)\n",
    "                combinedPoly = np.multiply(leftPoly,rightPoly)\n",
    "                vectoredPoly = combinedPoly.reshape(len(inputX),1)\n",
    "                polyFeatures = np.hstack((polyFeatures,vectoredPoly))\n",
    "            else:\n",
    "                leftPoly = inputX[0,0]**(i-j)\n",
    "                rightPoly =  inputX[0,1]**j\n",
    "                combinedPoly = leftPoly*rightPoly\n",
    "                polyFeatures = np.hstack((polyFeatures,combinedPoly))\n",
    "    return polyFeatures\n",
    "X3 = generatePolynomialFeatures(X2,7,True)"
   ]
  },
  {
   "cell_type": "markdown",
   "metadata": {},
   "source": [
    "2. [2 Points] Report optimal final θ."
   ]
  },
  {
   "cell_type": "code",
   "execution_count": 35,
   "metadata": {},
   "outputs": [
    {
     "name": "stdout",
     "output_type": "stream",
     "text": [
      "Optimal Theta\n",
      "[[ 3.7927362   2.5791511   4.27866228 -5.36191934 -5.44921916 -6.65594081\n",
      "   1.39688247 -1.55787083 -0.05366996 -0.97461642 -4.75960673  1.4026287\n",
      "  -2.87703547 -2.22933987 -4.01438754 -1.03158948 -0.60871169  1.60912328\n",
      "  -2.13323406 -2.18557705  0.69177217 -4.27983696  0.94426703 -1.13785183\n",
      "   0.92312786 -2.05970136 -2.0388431  -0.76744483]]\n"
     ]
    },
    {
     "data": {
      "image/png": "[encoded data removed]",
      "text/plain": [
       "<Figure size 432x288 with 1 Axes>"
      ]
     },
     "metadata": {
      "needs_background": "light"
     },
     "output_type": "display_data"
    }
   ],
   "source": [
    "alpha2 = 0.5\n",
    "iters2 = 5000\n",
    "g2, cost2 = logRegressionGradientDescent(X3, y2, theta2, alpha2, iters2)\n",
    "print(\"Optimal Theta\")\n",
    "print(g2)\n",
    "plt.plot(cost2,label=r\"$\\alpha = 0.5$\")\n",
    "plt.xlabel(\"Iterations\")\n",
    "plt.ylabel(\"Cost\")\n",
    "plt.legend()\n",
    "plt.title(\"Cost vs. Iterations\")\n",
    "plt.show()"
   ]
  },
  {
   "cell_type": "markdown",
   "metadata": {},
   "source": [
    "3. [3 Points] Plot the decision boundary with the training data.\n",
    "\n",
    "Hint: You can use the cost and GradientDescent algorithms implemented in assignment Part1."
   ]
  },
  {
   "cell_type": "code",
   "execution_count": 36,
   "metadata": {},
   "outputs": [
    {
     "data": {
      "image/png": "[encoded data removed]",
      "text/plain": [
       "<Figure size 432x288 with 1 Axes>"
      ]
     },
     "metadata": {
      "needs_background": "light"
     },
     "output_type": "display_data"
    }
   ],
   "source": [
    "beginPlot(data2)\n",
    "\n",
    "x_range = np.linspace(-1,1.5,50)\n",
    "y_range= np.linspace(-1,1.5,50)\n",
    "z=np.zeros((len(x_range),len(y_range)))\n",
    "for i in range(len(x_range)):\n",
    "    for j in range(len(y_range)):\n",
    "        #dot product of the feature using earlier method modification\n",
    "        z[i,j] = generatePolynomialFeatures(np.c_[x_range[i],y_range[j]],7,False) @ g2.T \n",
    "        \n",
    "        \n",
    "myContour = plt.contour(x_range,y_range,z.T,0)\n",
    "myContour.collections[0].set_label('Decision Boundary')\n",
    "plt.legend()\n",
    "plt.show()"
   ]
  },
  {
   "cell_type": "markdown",
   "metadata": {},
   "source": [
    "### Part 2, Q3 -- 15% <u>\n",
    "\n",
    "1. [5 Points] Implement Regularized Logistic Regression cost function."
   ]
  },
  {
   "cell_type": "code",
   "execution_count": 223,
   "metadata": {},
   "outputs": [],
   "source": [
    "def costFunctionReg2(theta, X, y ,Lambda):\n",
    "    \"\"\"\n",
    "    Take in numpy array of theta, X, and y to return the regularize cost function and gradient\n",
    "    of a logistic regression\n",
    "    \"\"\"\n",
    "    \n",
    "    m=len(y)\n",
    "    predictions = sigmoid(np.multiply(X,theta.T))\n",
    "    error = (-y.T * np.log(predictions)) - ((1-y.T)*np.log(1-predictions))\n",
    "    cost = 1/m * sum(error)\n",
    "    regCost= cost + Lambda/(2*m) * sum(np.power(theta,2))\n",
    "    \n",
    "    # compute gradient\n",
    "    j_0= np.asarray([1/m * (X.transpose() @ (predictions - y))[0,0]])\n",
    "    j_1 = (1/m * (X.transpose() @ (predictions - y))[1:] + (Lambda/m)* theta[1:])[:,0]\n",
    "    grad= np.vstack((j_0[:,np.newaxis],j_1))\n",
    "    return cost[0], grad\n",
    "def costFunctionReg(theta, X, y ,Lambda):\n",
    "    \"\"\"\n",
    "    Take in numpy array of theta, X, and y to return the regularize cost function and gradient\n",
    "    of a logistic regression\n",
    "    \"\"\"\n",
    "    \n",
    "    m=len(y)\n",
    "    y=y[:,np.newaxis]\n",
    "    predictions = sigmoid(X @ theta)\n",
    "    print((-y * np.log(predictions)))\n",
    "    error = (-y * np.log(predictions)) - ((1-y)*np.log(1-predictions))\n",
    "    cost = 1/m * sum(error)\n",
    "    regCost= cost + Lambda/(2*m) * sum(theta**2)\n",
    "    \n",
    "    # compute gradient\n",
    "    j_0= 1/m * (X.transpose() @ (predictions - y))[0]\n",
    "    j_1 = 1/m * (X.transpose() @ (predictions - y))[1:] + (Lambda/m)* theta[1:]\n",
    "    grad= np.vstack((j_0[:,np.newaxis],j_1))\n",
    "    return cost[0], grad"
   ]
  },
  {
   "cell_type": "markdown",
   "metadata": {},
   "source": [
    "2. [5 Points] Implement RegularizedlogRegressionGradientDescent ."
   ]
  },
  {
   "cell_type": "code",
   "execution_count": 224,
   "metadata": {},
   "outputs": [],
   "source": [
    "def gradientDescent(X,y,theta,alpha,num_iters,Lambda):\n",
    "    \"\"\"\n",
    "    Take in numpy array X, y and theta and update theta by taking num_iters gradient steps\n",
    "    with learning rate of alpha\n",
    "    \n",
    "    return theta and the list of the cost of theta during each iteration\n",
    "    \"\"\"\n",
    "    \n",
    "    m=len(y)\n",
    "    J_history =[]\n",
    "    \n",
    "    for i in range(num_iters):\n",
    "        cost, grad = costFunctionReg(theta,X,y,Lambda)\n",
    "        theta = theta - (alpha * grad)\n",
    "        print(grad[0])\n",
    "        J_history.append(cost)\n",
    "    \n",
    "    return theta , J_history\n"
   ]
  },
  {
   "cell_type": "markdown",
   "metadata": {},
   "source": [
    "4. [5 Points] Plot the cost with the number of iterations."
   ]
  },
  {
   "cell_type": "code",
   "execution_count": 225,
   "metadata": {},
   "outputs": [
    {
     "ename": "TypeError",
     "evalue": "__array_prepare__ must return an ndarray or subclass thereof which is otherwise identical to its input",
     "output_type": "error",
     "traceback": [
      "\u001b[1;31m---------------------------------------------------------------------------\u001b[0m",
      "\u001b[1;31mTypeError\u001b[0m                                 Traceback (most recent call last)",
      "\u001b[1;32m<ipython-input-225-5a2ec3c2b2f1>\u001b[0m in \u001b[0;36m<module>\u001b[1;34m\u001b[0m\n\u001b[0;32m      5\u001b[0m \u001b[0mLambda\u001b[0m \u001b[1;33m=\u001b[0m \u001b[1;36m100\u001b[0m\u001b[1;33m\u001b[0m\u001b[1;33m\u001b[0m\u001b[0m\n\u001b[0;32m      6\u001b[0m \u001b[1;31m#Compute and display initial cost and gradient for regularized logistic regression\u001b[0m\u001b[1;33m\u001b[0m\u001b[1;33m\u001b[0m\u001b[1;33m\u001b[0m\u001b[0m\n\u001b[1;32m----> 7\u001b[1;33m \u001b[0mcost\u001b[0m\u001b[1;33m,\u001b[0m \u001b[0mgrad\u001b[0m\u001b[1;33m=\u001b[0m\u001b[0mcostFunctionReg\u001b[0m\u001b[1;33m(\u001b[0m\u001b[0minitial_theta\u001b[0m\u001b[1;33m,\u001b[0m \u001b[0mX3\u001b[0m\u001b[1;33m,\u001b[0m \u001b[0my2\u001b[0m\u001b[1;33m,\u001b[0m \u001b[0mLambda\u001b[0m\u001b[1;33m)\u001b[0m\u001b[1;33m\u001b[0m\u001b[1;33m\u001b[0m\u001b[0m\n\u001b[0m\u001b[0;32m      8\u001b[0m \u001b[1;31m#print(\"Cost at initial theta (zeros):\",cost)\u001b[0m\u001b[1;33m\u001b[0m\u001b[1;33m\u001b[0m\u001b[1;33m\u001b[0m\u001b[0m\n",
      "\u001b[1;32m<ipython-input-223-3400794e2063>\u001b[0m in \u001b[0;36mcostFunctionReg\u001b[1;34m(theta, X, y, Lambda)\u001b[0m\n\u001b[0;32m     25\u001b[0m     \u001b[0my\u001b[0m\u001b[1;33m=\u001b[0m\u001b[0my\u001b[0m\u001b[1;33m[\u001b[0m\u001b[1;33m:\u001b[0m\u001b[1;33m,\u001b[0m\u001b[0mnp\u001b[0m\u001b[1;33m.\u001b[0m\u001b[0mnewaxis\u001b[0m\u001b[1;33m]\u001b[0m\u001b[1;33m\u001b[0m\u001b[1;33m\u001b[0m\u001b[0m\n\u001b[0;32m     26\u001b[0m     \u001b[0mpredictions\u001b[0m \u001b[1;33m=\u001b[0m \u001b[0msigmoid\u001b[0m\u001b[1;33m(\u001b[0m\u001b[0mX\u001b[0m \u001b[1;33m@\u001b[0m \u001b[0mtheta\u001b[0m\u001b[1;33m)\u001b[0m\u001b[1;33m\u001b[0m\u001b[1;33m\u001b[0m\u001b[0m\n\u001b[1;32m---> 27\u001b[1;33m     \u001b[0merror\u001b[0m \u001b[1;33m=\u001b[0m \u001b[1;33m(\u001b[0m\u001b[1;33m-\u001b[0m\u001b[0my\u001b[0m \u001b[1;33m*\u001b[0m \u001b[0mnp\u001b[0m\u001b[1;33m.\u001b[0m\u001b[0mlog\u001b[0m\u001b[1;33m(\u001b[0m\u001b[0mpredictions\u001b[0m\u001b[1;33m)\u001b[0m\u001b[1;33m)\u001b[0m \u001b[1;33m-\u001b[0m \u001b[1;33m(\u001b[0m\u001b[1;33m(\u001b[0m\u001b[1;36m1\u001b[0m\u001b[1;33m-\u001b[0m\u001b[0my\u001b[0m\u001b[1;33m)\u001b[0m\u001b[1;33m*\u001b[0m\u001b[0mnp\u001b[0m\u001b[1;33m.\u001b[0m\u001b[0mlog\u001b[0m\u001b[1;33m(\u001b[0m\u001b[1;36m1\u001b[0m\u001b[1;33m-\u001b[0m\u001b[0mpredictions\u001b[0m\u001b[1;33m)\u001b[0m\u001b[1;33m)\u001b[0m\u001b[1;33m\u001b[0m\u001b[1;33m\u001b[0m\u001b[0m\n\u001b[0m\u001b[0;32m     28\u001b[0m     \u001b[0mcost\u001b[0m \u001b[1;33m=\u001b[0m \u001b[1;36m1\u001b[0m\u001b[1;33m/\u001b[0m\u001b[0mm\u001b[0m \u001b[1;33m*\u001b[0m \u001b[0msum\u001b[0m\u001b[1;33m(\u001b[0m\u001b[0merror\u001b[0m\u001b[1;33m)\u001b[0m\u001b[1;33m\u001b[0m\u001b[1;33m\u001b[0m\u001b[0m\n\u001b[0;32m     29\u001b[0m     \u001b[0mregCost\u001b[0m\u001b[1;33m=\u001b[0m \u001b[0mcost\u001b[0m \u001b[1;33m+\u001b[0m \u001b[0mLambda\u001b[0m\u001b[1;33m/\u001b[0m\u001b[1;33m(\u001b[0m\u001b[1;36m2\u001b[0m\u001b[1;33m*\u001b[0m\u001b[0mm\u001b[0m\u001b[1;33m)\u001b[0m \u001b[1;33m*\u001b[0m \u001b[0msum\u001b[0m\u001b[1;33m(\u001b[0m\u001b[0mtheta\u001b[0m\u001b[1;33m**\u001b[0m\u001b[1;36m2\u001b[0m\u001b[1;33m)\u001b[0m\u001b[1;33m\u001b[0m\u001b[1;33m\u001b[0m\u001b[0m\n",
      "\u001b[1;31mTypeError\u001b[0m: __array_prepare__ must return an ndarray or subclass thereof which is otherwise identical to its input"
     ]
    }
   ],
   "source": [
    "# Initialize fitting parameters\n",
    "initial_theta = np.zeros((X3.shape[1], 1))\n",
    "\n",
    "# Set regularization parameter lambda to 1\n",
    "Lambda = 100\n",
    "#Compute and display initial cost and gradient for regularized logistic regression\n",
    "cost, grad=costFunctionReg(initial_theta, X3, y2, Lambda)\n",
    "#print(\"Cost at initial theta (zeros):\",cost)"
   ]
  },
  {
   "cell_type": "markdown",
   "metadata": {},
   "source": [
    "### Part 2, Q4 -- 10%\n",
    "1. [5 Points] Demonstrate the impact of the regularization parameter λ with 1, 0, 100, 1000. \n"
   ]
  },
  {
   "cell_type": "code",
   "execution_count": 222,
   "metadata": {},
   "outputs": [
    {
     "name": "stdout",
     "output_type": "stream",
     "text": [
      "[[0.00847458]]\n",
      "[[0.00635594]]\n",
      "[[0.00476701]]\n",
      "[[0.00357535]]\n",
      "[[0.00268161]]\n"
     ]
    }
   ],
   "source": [
    "g3 , J_history = gradientDescent(X3,y2,initial_theta,1,5,100)\n",
    "#print(\"The regularized theta using ridge regression:\\n\",g3)"
   ]
  },
  {
   "cell_type": "code",
   "execution_count": 120,
   "metadata": {},
   "outputs": [
    {
     "data": {
      "image/png": "[encoded data removed]",
      "text/plain": [
       "<Figure size 432x288 with 1 Axes>"
      ]
     },
     "metadata": {
      "needs_background": "light"
     },
     "output_type": "display_data"
    }
   ],
   "source": [
    "beginPlot(data2)\n",
    "\n",
    "x_range = np.linspace(-1,1.5,50)\n",
    "y_range= np.linspace(-1,1.5,50)\n",
    "z=np.zeros((len(x_range),len(y_range)))\n",
    "for i in range(len(x_range)):\n",
    "    for j in range(len(y_range)):\n",
    "        #dot product of the feature using earlier method modification\n",
    "        z[i,j] = generatePolynomialFeatures(np.c_[x_range[i],y_range[j]],7,False) @ g3\n",
    "        \n",
    "        \n",
    "myContour = plt.contour(x_range,y_range,z.T,0)\n",
    "myContour.collections[0].set_label('Decision Boundary')\n",
    "plt.legend()\n",
    "plt.show()"
   ]
  },
  {
   "cell_type": "markdown",
   "metadata": {},
   "source": [
    "2. [5 Points] Plot the decision boundary of for the 4 different λ values. "
   ]
  },
  {
   "cell_type": "markdown",
   "metadata": {
    "collapsed": true
   },
   "source": [
    "# Assignment 2 -- Part 3( This part is for graduate students)\n"
   ]
  },
  {
   "cell_type": "markdown",
   "metadata": {},
   "source": [
    "What’s the best (or at least the most popular) Halloween candy? That was the question this dataset was collected to answer. Data was collected by creating a website where participants were shown presenting two fun-sized candies and asked to click on the one they would prefer to receive. In total, more than 269 thousand votes were collected from 8,371 different IP addresses.\n",
    "\n",
    "\n",
    "In this part, you will use the logistic regression from scikit learn to classify this the candies in 2 classes. \n",
    "\n",
    "The part of loading data and splitting into test and train is done for you.\n",
    "\n",
    "To know more about train_test_split follow the link below: \n",
    "\n",
    "https://scikit-learn.org/stable/modules/generated/sklearn.model_selection.train_test_split.html"
   ]
  },
  {
   "cell_type": "code",
   "execution_count": 2,
   "metadata": {},
   "outputs": [
    {
     "ename": "NameError",
     "evalue": "name 'pd' is not defined",
     "output_type": "error",
     "traceback": [
      "\u001b[1;31m---------------------------------------------------------------------------\u001b[0m",
      "\u001b[1;31mNameError\u001b[0m                                 Traceback (most recent call last)",
      "\u001b[1;32m<ipython-input-2-331e5c0009e4>\u001b[0m in \u001b[0;36m<module>\u001b[1;34m\u001b[0m\n\u001b[0;32m      1\u001b[0m \u001b[1;32mfrom\u001b[0m \u001b[0msklearn\u001b[0m \u001b[1;32mimport\u001b[0m \u001b[0mdatasets\u001b[0m\u001b[1;33m\u001b[0m\u001b[1;33m\u001b[0m\u001b[0m\n\u001b[0;32m      2\u001b[0m \u001b[1;32mfrom\u001b[0m \u001b[0msklearn\u001b[0m\u001b[1;33m.\u001b[0m\u001b[0mmodel_selection\u001b[0m \u001b[1;32mimport\u001b[0m \u001b[0mtrain_test_split\u001b[0m\u001b[1;33m\u001b[0m\u001b[1;33m\u001b[0m\u001b[0m\n\u001b[1;32m----> 3\u001b[1;33m \u001b[0mChocolate_data\u001b[0m \u001b[1;33m=\u001b[0m \u001b[0mpd\u001b[0m\u001b[1;33m.\u001b[0m\u001b[0mread_csv\u001b[0m\u001b[1;33m(\u001b[0m\u001b[1;34m\"candy-data.csv\"\u001b[0m\u001b[1;33m)\u001b[0m\u001b[1;33m\u001b[0m\u001b[1;33m\u001b[0m\u001b[0m\n\u001b[0m\u001b[0;32m      4\u001b[0m \u001b[0mprint\u001b[0m\u001b[1;33m(\u001b[0m\u001b[0mChocolate_data\u001b[0m\u001b[1;33m.\u001b[0m\u001b[0mhead\u001b[0m\u001b[1;33m(\u001b[0m\u001b[1;33m)\u001b[0m\u001b[1;33m)\u001b[0m\u001b[1;33m\u001b[0m\u001b[1;33m\u001b[0m\u001b[0m\n\u001b[0;32m      5\u001b[0m \u001b[0mChocolate_data\u001b[0m\u001b[1;33m.\u001b[0m\u001b[0mdrop\u001b[0m\u001b[1;33m(\u001b[0m\u001b[1;34m\"competitorname\"\u001b[0m\u001b[1;33m,\u001b[0m \u001b[0minplace\u001b[0m \u001b[1;33m=\u001b[0m \u001b[1;32mTrue\u001b[0m\u001b[1;33m,\u001b[0m \u001b[0maxis\u001b[0m\u001b[1;33m=\u001b[0m\u001b[1;36m1\u001b[0m\u001b[1;33m)\u001b[0m\u001b[1;33m\u001b[0m\u001b[1;33m\u001b[0m\u001b[0m\n",
      "\u001b[1;31mNameError\u001b[0m: name 'pd' is not defined"
     ]
    }
   ],
   "source": [
    "from sklearn import datasets\n",
    "from sklearn.model_selection import train_test_split\n",
    "Chocolate_data = pd.read_csv(\"candy-data.csv\")\n",
    "print(Chocolate_data.head())\n",
    "Chocolate_data.drop(\"competitorname\", inplace = True, axis=1)\n",
    "y = Chocolate_data.chocolate.values\n",
    "x_data = Chocolate_data.drop([\"chocolate\"], axis = 1)\n",
    "X_train, X_test, y_train, y_test = train_test_split( x_data, y, test_size=0.2, random_state=42)"
   ]
  },
  {
   "cell_type": "markdown",
   "metadata": {},
   "source": [
    "### Part 3, Q1-- 10%\n",
    "\n",
    "1.[7 points] Import the logistic regression from scikit learn and train the logistic regression classifier and report the accuracy score.\n"
   ]
  },
  {
   "cell_type": "code",
   "execution_count": 200,
   "metadata": {},
   "outputs": [
    {
     "data": {
      "text/plain": [
       "0.8823529411764706"
      ]
     },
     "execution_count": 200,
     "metadata": {},
     "output_type": "execute_result"
    }
   ],
   "source": [
    "from sklearn.linear_model import LogisticRegression\n",
    "from sklearn import metrics\n",
    "clf = LogisticRegression(solver='lbfgs').fit(X_train, y_train)\n",
    "prediction=clf.predict(X_test)\n",
    "metrics.accuracy_score(prediction,y_test)"
   ]
  },
  {
   "cell_type": "markdown",
   "metadata": {},
   "source": [
    "2.[3 Points] Scaling the features can help you for fast convergence and improve your accuracy. Scale the features(X_train and X_test) below using anykind of scaling."
   ]
  },
  {
   "cell_type": "code",
   "execution_count": 201,
   "metadata": {},
   "outputs": [],
   "source": [
    "from sklearn.preprocessing import StandardScaler\n",
    "scaler = StandardScaler()\n",
    "X_train=scaler.fit_transform(X_train)\n",
    "X_test=scaler.fit_transform(X_test)\n"
   ]
  },
  {
   "cell_type": "markdown",
   "metadata": {},
   "source": [
    "### Part 3, Q2-- 5%\n",
    "\n",
    "Agian,Import the logistic regression from scikit learn and train the logistic regression classifier with scaled X_train and X_test. After that test logistic regression classifier's accuracy with X_test and y_test and report the accuracy. "
   ]
  },
  {
   "cell_type": "code",
   "execution_count": 202,
   "metadata": {},
   "outputs": [
    {
     "data": {
      "text/plain": [
       "0.9411764705882353"
      ]
     },
     "execution_count": 202,
     "metadata": {},
     "output_type": "execute_result"
    }
   ],
   "source": [
    "from sklearn.linear_model import LogisticRegression\n",
    "from sklearn import metrics\n",
    "clf = LogisticRegression(solver='lbfgs').fit(X_train, y_train)\n",
    "prediction=clf.predict(X_test)\n",
    "metrics.accuracy_score(prediction,y_test)"
   ]
  },
  {
   "cell_type": "markdown",
   "metadata": {},
   "source": [
    "### Part 3, Q3-- 10% <b>(Bonus for graduate student)</b>"
   ]
  },
  {
   "cell_type": "markdown",
   "metadata": {},
   "source": [
    "If you have followed the basic steps correctly, you should get an accuracy around 93-94%. Now, try to take the accuracy to 96-97%. You can use feature generation, feature engineering and so on.\n",
    "\n",
    "Note: It would take a decent amount of time to improve the accuracy."
   ]
  },
  {
   "cell_type": "code",
   "execution_count": null,
   "metadata": {},
   "outputs": [],
   "source": []
  }
 ],
 "metadata": {
  "kernelspec": {
   "display_name": "Python 3",
   "language": "python",
   "name": "python3"
  },
  "language_info": {
   "codemirror_mode": {
    "name": "ipython",
    "version": 3
   },
   "file_extension": ".py",
   "mimetype": "text/x-python",
   "name": "python",
   "nbconvert_exporter": "python",
   "pygments_lexer": "ipython3",
   "version": "3.7.3"
  }
 },
 "nbformat": 4,
 "nbformat_minor": 2
}
