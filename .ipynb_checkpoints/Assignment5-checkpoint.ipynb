{
 "cells": [
  {
   "cell_type": "markdown",
   "metadata": {},
   "source": [
    "# Getting Python\n",
    "\n",
    "\n",
    "For this course, we are going to use Jupyter notebook as our environment for developing Python code.\n",
    "refer to https://jupyter.readthedocs.io/en/latest/content-quickstart.html on the instructions how to install it, the easiest way is to install from Anaconda (https://www.anaconda.com/download/) website, make sure you install with Python 3.6.\n",
    "\n",
    "Also, it is good for the students who are not familiar with python (or they need a quick refreshment) to follow Jim Bagrow tutorial http://bagrow.com/ds1/whirlwindtourpython/00-Title.html. \n",
    "\n",
    "All the assignments to be written in Python 3.6 and can be run using Jupyter on one of the following Internet browsers (Chrome, Safari or Firefox), these are the browsers that officially supported by jupyter.\n",
    "\n",
    "<u> Note: for this assignment, submit your local copy of this page, running on IPython. Submit the file to Blackboard under Assignment5 using this file format:</u> <b>Yourfirstname_lastname_Assignment5.ipynb</b> \n",
    "\n",
    "#### <b>Deadline</b>: <u>Dec-6-2019 11:59 PM.</u>"
   ]
  },
  {
   "cell_type": "markdown",
   "metadata": {},
   "source": [
    "### Getting started: Installing Numpy, Keras and TensorFlow"
   ]
  },
  {
   "cell_type": "markdown",
   "metadata": {},
   "source": [
    "Keras is a high-level Python API that allows you to easily construct, train, and apply neural networks.\n",
    "However, Keras is not a neural network library itself and depends on one of several neural network backends. We will use the Tensorflow backend. TensorFlow is an open-source library for neural networks (and other mathematical models based on sequences of matrix and tensor computations), originally developed by Google.Also, Keras uses numpy data structures. \n",
    "\n",
    "Installing Numpy, TensorFlow and Keras: \n",
    "\n",
    "We suggest that you use the Python package management system pip. \n",
    "On most systems, the following commands will work:\n",
    "\n",
    "- $ pip install numpy matplotlib.\n",
    "\n",
    "- $ pip install tensorflow\n",
    "\n",
    "- $ pip install keras\n",
    "\n",
    "### OR Using Anaconda (Easy and Prefered)\n",
    "\n",
    "- $ conda install keras scikit-learn pandas"
   ]
  },
  {
   "cell_type": "markdown",
   "metadata": {},
   "source": [
    "Note that this will likely install the CPU version of TensorFlow that does not use the GPU to speed up neural network training. For this assignment, training on the CPU will be sufficient, but if your computer has a GPU (or you want to try running the assignment in the cloud), follow the installation instructions on the tensorflow page. \n",
    "\n",
    "If you get stuck during the installation, you can find installation instructions for each package here: \n",
    "\n",
    "- Tensorflow: https://www.tensorflow.org/install/ \n",
    "- Keras: https://keras.io/#installation \n",
    "\n",
    "<b>I highly recommend that </b> you read and run these tutorials before you start this assignment. \n",
    "- https://www.tensorflow.org/tutorials/keras/classification\n",
    "- https://www.tensorflow.org/tutorials/images/cnn\n"
   ]
  },
  {
   "cell_type": "markdown",
   "metadata": {},
   "source": [
    "## Part 1\n",
    "### Introduction\n",
    "In this assignment you will use the Keras Neural Network API for Python to build neural networks for image classification. \n",
    "\n",
    "\n",
    "#### Data Set\n",
    "\n",
    "We will work on the CIFAR-10 image data set  described here: https://www.cs.toronto.edu/~kriz/cifar.html.\n",
    "\n",
    "The data set contains 60.000 images labeled with 10 different categories:\n",
    "\n",
    "Numeric ID\tCategory Name\n",
    "- 0\tairplane\n",
    "- 1\tautomobile\n",
    "- 2\tbird\n",
    "- 3\tcat\n",
    "- 4\tdeer\n",
    "- 5\tdog\n",
    "- 6\tfrog\n",
    "- 7\thorse\n",
    "- 8\tship\n",
    "- 9\ttruck\n",
    "\n",
    "\n",
    "Each image is 32x32 pixels large and there are three color channels (red, green blue). Each image can therefore be represented as three 32x32 matrices or one 32x32x3 cube.\n"
   ]
  },
  {
   "cell_type": "code",
   "execution_count": 26,
   "metadata": {},
   "outputs": [],
   "source": [
    "# import libraries\n",
    "%matplotlib inline\n",
    "import numpy as np\n",
    "import pandas as pd\n",
    "import matplotlib.pyplot as plt\n",
    "from keras.datasets import cifar10\n",
    "from keras import Sequential \n",
    "from keras import layers\n",
    "from keras import optimizers"
   ]
  },
  {
   "cell_type": "markdown",
   "metadata": {},
   "source": [
    "a. (20 pts) - Loading the CIFAR-10 Data\n",
    "\n",
    "The following code fragment imports the CIFAR-10 data using Keras. "
   ]
  },
  {
   "cell_type": "code",
   "execution_count": 27,
   "metadata": {},
   "outputs": [],
   "source": [
    "(xtrain, ytrain), (xtest, ytest) = cifar10.load_data()"
   ]
  },
  {
   "cell_type": "code",
   "execution_count": 28,
   "metadata": {},
   "outputs": [
    {
     "name": "stdout",
     "output_type": "stream",
     "text": [
      "(50000, 32, 32, 3)\n",
      "(50000, 1)\n"
     ]
    }
   ],
   "source": [
    "print(xtrain.shape)\n",
    "print(ytrain.shape)"
   ]
  },
  {
   "cell_type": "code",
   "execution_count": 29,
   "metadata": {
    "scrolled": false
   },
   "outputs": [
    {
     "name": "stdout",
     "output_type": "stream",
     "text": [
      "(10000, 32, 32, 3)\n",
      "(10000, 1)\n"
     ]
    }
   ],
   "source": [
    "print(xtest.shape)\n",
    "print(ytest.shape)"
   ]
  },
  {
   "cell_type": "markdown",
   "metadata": {},
   "source": [
    "Split the training data into training and validation (40000 for training, and 10000 for validation). Thus you have xtrain, ytrain, xvalid, yvalid, xtest, and ytest are numpy n-dimension arrays contains the training validation and testing data.\n",
    "\n",
    "The input training data (xtrain) is a 4-dimensional array containing 40000 images, each of them a 32x32x3 tensor. Numpy arrays can be indexed like nested Python lists, so xtrain[0] will give you the first 32x32x3 image.\n",
    "\n",
    "The input label (ytrain) is a vector containing the numeric class for each image (see table above for what the numeric IDs mean). For example, xtrain[0] is an image of a frog and therefore ytrain[0] contains the value 6. "
   ]
  },
  {
   "cell_type": "code",
   "execution_count": 30,
   "metadata": {},
   "outputs": [],
   "source": [
    "from sklearn.model_selection import train_test_split\n",
    "xtrain, xvalid, ytrain, yvalid = train_test_split(xtrain, ytrain, test_size=0.2, random_state=39)"
   ]
  },
  {
   "cell_type": "markdown",
   "metadata": {},
   "source": [
    "## Visualizing Images\n",
    "If you want to take a look at the individual images, you can do so using matplotlib (this step is optional). "
   ]
  },
  {
   "cell_type": "code",
   "execution_count": 31,
   "metadata": {},
   "outputs": [
    {
     "data": {
      "text/plain": [
       "array([9], dtype=uint8)"
      ]
     },
     "execution_count": 31,
     "metadata": {},
     "output_type": "execute_result"
    },
    {
     "data": {
      "image/png": "[encoded data removed]",
      "text/plain": [
       "<Figure size 432x288 with 1 Axes>"
      ]
     },
     "metadata": {
      "needs_background": "light"
     },
     "output_type": "display_data"
    }
   ],
   "source": [
    "plt.imshow(xtrain[6])\n",
    "ytrain[6]"
   ]
  },
  {
   "cell_type": "markdown",
   "metadata": {},
   "source": [
    "b.[20 Pnts] 1-hot representation for class labels\n",
    "\n",
    "The output layer of the neural networks we will train will contain 10 neurons corresponding to the 10 classes. The classifier predicts the class whose corresponding neuron has the highest activation. We need to convert the numeric indices for each image into a 1-hot vector of length 10, so that the for class label n the n-th element is 1 and all other elements are 0. For example, if the class label is 6, we should get the 1-hot vector [0 0 0 0 0 0 1 0 0 0].\n",
    "The class labels for the entire training and set should then be represented as a 50000x10 matrix, and the testing data as a 10000x10 matrix (there are 10k test images). \n",
    "\n",
    "Write the function load_cifar10(), which should load the cifar-10 data as described above and should return 6 numpy arrays xtrain, ytrain_1hot, xval, yval_1hot, xtest, ytest_1hot. Your function should convert the y arrays into the 1-hot representation. You can either do this using loops (slow), using numpy fancy indexing (see numpy documentation), or by using appropriate functions in the numpy or Keras API. \n",
    "\n",
    "Your function should also do the following normalization on the data. The R,G and B values for each pixel range between 0 and 255. Before returning the training data, normalize it so that these value range between 0.0 and 1.0."
   ]
  },
  {
   "cell_type": "code",
   "execution_count": 32,
   "metadata": {},
   "outputs": [
    {
     "name": "stdout",
     "output_type": "stream",
     "text": [
      "[[[[0.70980392 0.76470588 0.52941176]\n",
      "   [0.65882353 0.70980392 0.49019608]\n",
      "   [0.52156863 0.57254902 0.36078431]\n",
      "   ...\n",
      "   [0.14117647 0.16470588 0.11372549]\n",
      "   [0.15294118 0.17647059 0.12941176]\n",
      "   [0.14509804 0.16862745 0.11372549]]\n",
      "\n",
      "  [[0.6745098  0.72941176 0.50588235]\n",
      "   [0.57254902 0.62352941 0.41960784]\n",
      "   [0.50980392 0.55686275 0.36470588]\n",
      "   ...\n",
      "   [0.34117647 0.37647059 0.27058824]\n",
      "   [0.34901961 0.38039216 0.27843137]\n",
      "   [0.35686275 0.39215686 0.27843137]]\n",
      "\n",
      "  [[0.41176471 0.4627451  0.25882353]\n",
      "   [0.42352941 0.47058824 0.28235294]\n",
      "   [0.38431373 0.42745098 0.25490196]\n",
      "   ...\n",
      "   [0.30980392 0.34117647 0.23529412]\n",
      "   [0.32941176 0.36470588 0.25882353]\n",
      "   [0.46666667 0.50196078 0.38431373]]\n",
      "\n",
      "  ...\n",
      "\n",
      "  [[0.74509804 0.75294118 0.5254902 ]\n",
      "   [0.74117647 0.74509804 0.5254902 ]\n",
      "   [0.69019608 0.69411765 0.46666667]\n",
      "   ...\n",
      "   [0.75294118 0.74901961 0.53333333]\n",
      "   [0.74509804 0.7372549  0.5254902 ]\n",
      "   [0.78039216 0.77254902 0.55294118]]\n",
      "\n",
      "  [[0.72941176 0.74117647 0.52941176]\n",
      "   [0.73333333 0.74509804 0.52941176]\n",
      "   [0.69803922 0.70980392 0.48627451]\n",
      "   ...\n",
      "   [0.78039216 0.76862745 0.55294118]\n",
      "   [0.82352941 0.81176471 0.59607843]\n",
      "   [0.82745098 0.81568627 0.59607843]]\n",
      "\n",
      "  [[0.70588235 0.72156863 0.51764706]\n",
      "   [0.71372549 0.73333333 0.51764706]\n",
      "   [0.69019608 0.70980392 0.48627451]\n",
      "   ...\n",
      "   [0.81568627 0.79607843 0.58039216]\n",
      "   [0.83137255 0.81176471 0.6       ]\n",
      "   [0.90588235 0.89019608 0.67058824]]]\n",
      "\n",
      "\n",
      " [[[0.12941176 0.1254902  0.08627451]\n",
      "   [0.09803922 0.12156863 0.0745098 ]\n",
      "   [0.07058824 0.11764706 0.06666667]\n",
      "   ...\n",
      "   [0.44313725 0.36470588 0.19607843]\n",
      "   [0.6        0.54509804 0.41960784]\n",
      "   [0.61960784 0.58431373 0.5254902 ]]\n",
      "\n",
      "  [[0.12941176 0.14509804 0.0745098 ]\n",
      "   [0.09803922 0.15686275 0.0745098 ]\n",
      "   [0.09411765 0.16862745 0.07843137]\n",
      "   ...\n",
      "   [0.48235294 0.50588235 0.25490196]\n",
      "   [0.51372549 0.54509804 0.32941176]\n",
      "   [0.55686275 0.57647059 0.41960784]]\n",
      "\n",
      "  [[0.16470588 0.17254902 0.07058824]\n",
      "   [0.11764706 0.18823529 0.07058824]\n",
      "   [0.11372549 0.19607843 0.0745098 ]\n",
      "   ...\n",
      "   [0.67058824 0.75294118 0.44313725]\n",
      "   [0.65490196 0.72941176 0.44705882]\n",
      "   [0.68235294 0.7372549  0.49411765]]\n",
      "\n",
      "  ...\n",
      "\n",
      "  [[0.71372549 0.73333333 0.46666667]\n",
      "   [0.68627451 0.72941176 0.43137255]\n",
      "   [0.62352941 0.67843137 0.35686275]\n",
      "   ...\n",
      "   [0.18823529 0.22745098 0.08235294]\n",
      "   [0.18039216 0.21960784 0.08627451]\n",
      "   [0.22352941 0.26666667 0.12156863]]\n",
      "\n",
      "  [[0.69411765 0.70980392 0.47058824]\n",
      "   [0.6        0.63529412 0.36078431]\n",
      "   [0.55294118 0.61176471 0.2745098 ]\n",
      "   ...\n",
      "   [0.22352941 0.2627451  0.12156863]\n",
      "   [0.22745098 0.26666667 0.14117647]\n",
      "   [0.21176471 0.24313725 0.14117647]]\n",
      "\n",
      "  [[0.63137255 0.64705882 0.41176471]\n",
      "   [0.5254902  0.56470588 0.2745098 ]\n",
      "   [0.57254902 0.63921569 0.23921569]\n",
      "   ...\n",
      "   [0.34117647 0.38431373 0.21176471]\n",
      "   [0.34117647 0.38039216 0.24705882]\n",
      "   [0.2627451  0.29411765 0.20784314]]]\n",
      "\n",
      "\n",
      " [[[0.1372549  0.20392157 0.30196078]\n",
      "   [0.13333333 0.21176471 0.31372549]\n",
      "   [0.14117647 0.22352941 0.3254902 ]\n",
      "   ...\n",
      "   [0.20392157 0.22352941 0.2627451 ]\n",
      "   [0.14117647 0.16078431 0.21960784]\n",
      "   [0.25490196 0.30980392 0.38039216]]\n",
      "\n",
      "  [[0.11764706 0.16862745 0.2745098 ]\n",
      "   [0.12156863 0.17254902 0.27843137]\n",
      "   [0.1254902  0.18039216 0.28235294]\n",
      "   ...\n",
      "   [0.16862745 0.2        0.24313725]\n",
      "   [0.09803922 0.12941176 0.18823529]\n",
      "   [0.18823529 0.23529412 0.29411765]]\n",
      "\n",
      "  [[0.13333333 0.21176471 0.3254902 ]\n",
      "   [0.1254902  0.21176471 0.31764706]\n",
      "   [0.11764706 0.21176471 0.30980392]\n",
      "   ...\n",
      "   [0.14117647 0.20392157 0.25490196]\n",
      "   [0.10980392 0.14509804 0.19215686]\n",
      "   [0.11372549 0.15686275 0.22352941]]\n",
      "\n",
      "  ...\n",
      "\n",
      "  [[0.13333333 0.18431373 0.28627451]\n",
      "   [0.1372549  0.21176471 0.30980392]\n",
      "   [0.12941176 0.21176471 0.30196078]\n",
      "   ...\n",
      "   [0.11372549 0.15294118 0.23921569]\n",
      "   [0.1254902  0.18431373 0.27843137]\n",
      "   [0.1372549  0.20392157 0.29411765]]\n",
      "\n",
      "  [[0.12156863 0.17254902 0.2745098 ]\n",
      "   [0.12941176 0.17647059 0.2745098 ]\n",
      "   [0.1254902  0.17647059 0.27843137]\n",
      "   ...\n",
      "   [0.1254902  0.17254902 0.2627451 ]\n",
      "   [0.12156863 0.19215686 0.28627451]\n",
      "   [0.12941176 0.2        0.29019608]]\n",
      "\n",
      "  [[0.12156863 0.2        0.29803922]\n",
      "   [0.12941176 0.17647059 0.2745098 ]\n",
      "   [0.12156863 0.16078431 0.25882353]\n",
      "   ...\n",
      "   [0.11372549 0.14901961 0.23529412]\n",
      "   [0.11372549 0.16862745 0.24705882]\n",
      "   [0.12156863 0.16862745 0.25882353]]]\n",
      "\n",
      "\n",
      " ...\n",
      "\n",
      "\n",
      " [[[0.98431373 0.98431373 0.98431373]\n",
      "   [0.97647059 0.97647059 0.97647059]\n",
      "   [0.98039216 0.98039216 0.98039216]\n",
      "   ...\n",
      "   [0.78823529 0.8745098  0.91372549]\n",
      "   [0.8        0.88627451 0.92156863]\n",
      "   [0.85098039 0.92941176 0.95686275]]\n",
      "\n",
      "  [[0.99607843 0.99607843 0.99607843]\n",
      "   [0.99215686 0.99215686 0.99215686]\n",
      "   [0.99215686 0.99215686 0.99215686]\n",
      "   ...\n",
      "   [0.91764706 0.95294118 0.98039216]\n",
      "   [0.93333333 0.96862745 0.98823529]\n",
      "   [0.96078431 0.98823529 1.        ]]\n",
      "\n",
      "  [[0.98431373 0.98431373 0.98431373]\n",
      "   [0.98039216 0.98039216 0.98039216]\n",
      "   [0.98431373 0.98431373 0.98431373]\n",
      "   ...\n",
      "   [0.97647059 0.96862745 0.98039216]\n",
      "   [0.97647059 0.97254902 0.98431373]\n",
      "   [0.98431373 0.98039216 0.98823529]]\n",
      "\n",
      "  ...\n",
      "\n",
      "  [[0.33333333 0.34901961 0.39607843]\n",
      "   [0.34901961 0.35294118 0.37647059]\n",
      "   [0.29411765 0.27843137 0.2745098 ]\n",
      "   ...\n",
      "   [0.63529412 0.6745098  0.67843137]\n",
      "   [0.63529412 0.6745098  0.67843137]\n",
      "   [0.63137255 0.67058824 0.67843137]]\n",
      "\n",
      "  [[0.4        0.43137255 0.49019608]\n",
      "   [0.38039216 0.40392157 0.43921569]\n",
      "   [0.29019608 0.30196078 0.31372549]\n",
      "   ...\n",
      "   [0.64705882 0.68627451 0.69019608]\n",
      "   [0.63921569 0.67843137 0.68235294]\n",
      "   [0.63137255 0.67058824 0.67843137]]\n",
      "\n",
      "  [[0.36470588 0.40392157 0.46666667]\n",
      "   [0.32941176 0.36078431 0.40784314]\n",
      "   [0.32156863 0.34901961 0.37647059]\n",
      "   ...\n",
      "   [0.63921569 0.67843137 0.68235294]\n",
      "   [0.62745098 0.66666667 0.66666667]\n",
      "   [0.61960784 0.65490196 0.6627451 ]]]\n",
      "\n",
      "\n",
      " [[[0.65098039 0.67058824 0.49411765]\n",
      "   [0.68235294 0.65882353 0.48235294]\n",
      "   [0.53333333 0.56470588 0.30588235]\n",
      "   ...\n",
      "   [0.44313725 0.4        0.27058824]\n",
      "   [0.49803922 0.44705882 0.30588235]\n",
      "   [0.57254902 0.51764706 0.37647059]]\n",
      "\n",
      "  [[0.61568627 0.62745098 0.39215686]\n",
      "   [0.5372549  0.5372549  0.34117647]\n",
      "   [0.51372549 0.55294118 0.31764706]\n",
      "   ...\n",
      "   [0.60784314 0.54117647 0.4       ]\n",
      "   [0.62352941 0.57647059 0.42745098]\n",
      "   [0.56470588 0.52156863 0.36862745]]\n",
      "\n",
      "  [[0.69411765 0.60392157 0.41960784]\n",
      "   [0.66666667 0.61568627 0.41960784]\n",
      "   [0.65490196 0.63921569 0.45098039]\n",
      "   ...\n",
      "   [0.65882353 0.6        0.45882353]\n",
      "   [0.63921569 0.57647059 0.43529412]\n",
      "   [0.65490196 0.59607843 0.44705882]]\n",
      "\n",
      "  ...\n",
      "\n",
      "  [[0.69803922 0.65490196 0.5372549 ]\n",
      "   [0.6745098  0.65098039 0.53333333]\n",
      "   [0.64705882 0.62745098 0.52156863]\n",
      "   ...\n",
      "   [0.62745098 0.61176471 0.50196078]\n",
      "   [0.62352941 0.60784314 0.50196078]\n",
      "   [0.64705882 0.62352941 0.51764706]]\n",
      "\n",
      "  [[0.67058824 0.63921569 0.5372549 ]\n",
      "   [0.63529412 0.60392157 0.49803922]\n",
      "   [0.61960784 0.6        0.49019608]\n",
      "   ...\n",
      "   [0.60392157 0.56470588 0.47058824]\n",
      "   [0.52156863 0.48235294 0.38823529]\n",
      "   [0.5372549  0.49803922 0.39607843]]\n",
      "\n",
      "  [[0.60784314 0.58039216 0.47843137]\n",
      "   [0.61960784 0.58431373 0.47058824]\n",
      "   [0.63137255 0.60392157 0.49019608]\n",
      "   ...\n",
      "   [0.61960784 0.57254902 0.47843137]\n",
      "   [0.61568627 0.57647059 0.47843137]\n",
      "   [0.67843137 0.63921569 0.5372549 ]]]\n",
      "\n",
      "\n",
      " [[[0.43921569 0.38039216 0.24705882]\n",
      "   [0.41176471 0.35686275 0.22352941]\n",
      "   [0.41176471 0.35294118 0.22352941]\n",
      "   ...\n",
      "   [0.44313725 0.39215686 0.29019608]\n",
      "   [0.41960784 0.36078431 0.27058824]\n",
      "   [0.3254902  0.29803922 0.19607843]]\n",
      "\n",
      "  [[0.48627451 0.4        0.2745098 ]\n",
      "   [0.46666667 0.38039216 0.25882353]\n",
      "   [0.47843137 0.39215686 0.2745098 ]\n",
      "   ...\n",
      "   [0.41176471 0.36078431 0.25490196]\n",
      "   [0.39215686 0.34117647 0.24313725]\n",
      "   [0.35294118 0.32156863 0.21176471]]\n",
      "\n",
      "  [[0.4745098  0.38823529 0.2627451 ]\n",
      "   [0.47058824 0.38431373 0.2627451 ]\n",
      "   [0.4627451  0.37647059 0.25490196]\n",
      "   ...\n",
      "   [0.36862745 0.3254902  0.21176471]\n",
      "   [0.38039216 0.33333333 0.22352941]\n",
      "   [0.35294118 0.31372549 0.2       ]]\n",
      "\n",
      "  ...\n",
      "\n",
      "  [[0.34901961 0.31372549 0.2       ]\n",
      "   [0.40392157 0.35294118 0.24705882]\n",
      "   [0.40784314 0.3372549  0.23529412]\n",
      "   ...\n",
      "   [0.36078431 0.30196078 0.21568627]\n",
      "   [0.41568627 0.35686275 0.26666667]\n",
      "   [0.40392157 0.34509804 0.25490196]]\n",
      "\n",
      "  [[0.36470588 0.32156863 0.20784314]\n",
      "   [0.39215686 0.3372549  0.23137255]\n",
      "   [0.38039216 0.32156863 0.21960784]\n",
      "   ...\n",
      "   [0.35294118 0.29803922 0.2       ]\n",
      "   [0.41568627 0.36078431 0.2627451 ]\n",
      "   [0.41960784 0.36470588 0.26666667]]\n",
      "\n",
      "  [[0.38039216 0.32156863 0.21568627]\n",
      "   [0.37647059 0.32941176 0.21960784]\n",
      "   [0.37254902 0.32941176 0.21960784]\n",
      "   ...\n",
      "   [0.39215686 0.3372549  0.22745098]\n",
      "   [0.41568627 0.36078431 0.25490196]\n",
      "   [0.40392157 0.34901961 0.23921569]]]]\n"
     ]
    }
   ],
   "source": [
    "from keras.utils import to_categorical\n",
    "def load_cifar10(xtrain,xval,xtest,ytrain,yval,ytest):\n",
    "    #normalize\n",
    "    xtrain = xtrain/255.0\n",
    "    xval = xval/255.0\n",
    "    xtest = xtest/255.0\n",
    "    # one hot encode\n",
    "    ytrain_1hot = to_categorical(ytrain)\n",
    "    yval_1hot = to_categorical(yval)\n",
    "    ytest_1hot = to_categorical(ytest)\n",
    "    return xtrain, xval, xtest, ytrain_1hot, yval_1hot, ytest_1hot\n",
    "xtrain,xval,xtest,ytrain_1hot,yval_1hot,ytest_1hot = load_cifar10(xtrain,xvalid,xtest,ytrain,yvalid,ytest)\n",
    "print(xtrain)"
   ]
  },
  {
   "cell_type": "markdown",
   "metadata": {},
   "source": [
    "### Check shapes"
   ]
  },
  {
   "cell_type": "code",
   "execution_count": 33,
   "metadata": {},
   "outputs": [
    {
     "name": "stdout",
     "output_type": "stream",
     "text": [
      "(40000, 32, 32, 3)\n",
      "(40000, 10)\n"
     ]
    }
   ],
   "source": [
    "print(xtrain.shape)\n",
    "print(ytrain_1hot.shape)"
   ]
  },
  {
   "cell_type": "code",
   "execution_count": 34,
   "metadata": {},
   "outputs": [
    {
     "name": "stdout",
     "output_type": "stream",
     "text": [
      "(10000, 32, 32, 3)\n",
      "(10000, 10)\n"
     ]
    }
   ],
   "source": [
    "print(xval.shape)\n",
    "print(yval_1hot.shape)"
   ]
  },
  {
   "cell_type": "code",
   "execution_count": 35,
   "metadata": {
    "scrolled": false
   },
   "outputs": [
    {
     "name": "stdout",
     "output_type": "stream",
     "text": [
      "(10000, 32, 32, 3)\n",
      "(10000, 10)\n"
     ]
    }
   ],
   "source": [
    "print(xtest.shape)\n",
    "print(ytest_1hot.shape)"
   ]
  },
  {
   "cell_type": "markdown",
   "metadata": {},
   "source": [
    "### Check one-hot encoding"
   ]
  },
  {
   "cell_type": "code",
   "execution_count": 36,
   "metadata": {},
   "outputs": [
    {
     "data": {
      "text/plain": [
       "(array([0., 0., 0., 0., 0., 0., 0., 1., 0., 0.], dtype=float32),\n",
       " array([0., 0., 0., 1., 0., 0., 0., 0., 0., 0.], dtype=float32),\n",
       " array([0., 0., 0., 0., 0., 0., 0., 0., 1., 0.], dtype=float32))"
      ]
     },
     "execution_count": 36,
     "metadata": {},
     "output_type": "execute_result"
    }
   ],
   "source": [
    "ytrain_1hot[0], yval_1hot[1], ytest_1hot[2]"
   ]
  },
  {
   "cell_type": "markdown",
   "metadata": {},
   "source": [
    "c. [20 Pnts]  In this task, you will implement an MLP network using keras.Sequential method with:\n",
    "\n",
    "- Batch size: 16. \n",
    "- Number of hidden layers: 1 (100 neuron).\n",
    "- use SGD optimizer, Learning Rate: 0.01.\n",
    "- #of epochs 10.\n",
    "- Use softmax layer for your output.\n",
    "- use Relu as your activation function.\n",
    "\n",
    "Keep all other hyperparameters (activation function, etc.) at their default settings.\n",
    "\n",
    "\n",
    "Find the performance (accuracy) of your model on the validation set and test set after training for 10 epochs."
   ]
  },
  {
   "cell_type": "code",
   "execution_count": 57,
   "metadata": {},
   "outputs": [
    {
     "name": "stdout",
     "output_type": "stream",
     "text": [
      "Epoch 1/10\n",
      "40000/40000 [==============================] - 27s 678us/step - loss: 0.2947 - acc: 0.9004\n",
      "Epoch 2/10\n",
      "40000/40000 [==============================] - 24s 600us/step - loss: 0.2749 - acc: 0.9020\n",
      "Epoch 3/10\n",
      "40000/40000 [==============================] - 25s 620us/step - loss: 0.2678 - acc: 0.9035\n",
      "Epoch 4/10\n",
      "40000/40000 [==============================] - 24s 610us/step - loss: 0.2628 - acc: 0.9047\n",
      "Epoch 5/10\n",
      "40000/40000 [==============================] - 24s 611us/step - loss: 0.2591 - acc: 0.9052\n",
      "Epoch 6/10\n",
      "40000/40000 [==============================] - 25s 622us/step - loss: 0.2558 - acc: 0.9060\n",
      "Epoch 7/10\n",
      "40000/40000 [==============================] - 27s 670us/step - loss: 0.2528 - acc: 0.9067\n",
      "Epoch 8/10\n",
      "40000/40000 [==============================] - 26s 650us/step - loss: 0.2501 - acc: 0.9075\n",
      "Epoch 9/10\n",
      "40000/40000 [==============================] - 24s 593us/step - loss: 0.2477 - acc: 0.9082\n",
      "Epoch 10/10\n",
      "40000/40000 [==============================] - 30s 742us/step - loss: 0.2455 - acc: 0.9088\n"
     ]
    }
   ],
   "source": [
    "from keras.models import Sequential\n",
    "from keras.layers import Dense, Activation, Flatten\n",
    "from keras.optimizers import SGD\n",
    "model = Sequential([\n",
    "    Flatten(input_shape=(32,32,3)),\n",
    "    Dense(100),\n",
    "    Activation('relu'),\n",
    "    Dense(10),\n",
    "    Activation('softmax'),\n",
    "])\n",
    "\n",
    "opt = SGD(lr=0.01)\n",
    "model.compile(loss='binary_crossentropy', optimizer=opt, metrics=['accuracy'])\n",
    "history = model.fit(xtrain, ytrain_1hot, epochs=10, batch_size=16)"
   ]
  },
  {
   "cell_type": "code",
   "execution_count": 58,
   "metadata": {},
   "outputs": [
    {
     "name": "stdout",
     "output_type": "stream",
     "text": [
      "10000/10000 [==============================] - 2s 159us/step\n",
      "Accuracy: 90.85\n",
      "10000/10000 [==============================] - 2s 165us/step\n",
      "Accuracy: 90.85\n"
     ]
    },
    {
     "data": {
      "image/png": "[encoded data removed]",
      "text/plain": [
       "<Figure size 576x576 with 2 Axes>"
      ]
     },
     "metadata": {
      "needs_background": "light"
     },
     "output_type": "display_data"
    }
   ],
   "source": [
    "indH, accuracy = model.evaluate(xval, yval_1hot)\n",
    "print('Accuracy: %.2f' % (accuracy*100))\n",
    "\n",
    "indH, accuracy = model.evaluate(xtest, ytest_1hot)\n",
    "print('Accuracy: %.2f' % (accuracy*100))\n",
    "\n",
    "acc = history.history['acc']\n",
    "loss = history.history['loss']\n",
    "\n",
    "epochs_range = range(10)\n",
    "\n",
    "plt.figure(figsize=(8, 8))\n",
    "plt.subplot(1, 2, 1)\n",
    "plt.plot(epochs_range, acc, label='Training Accuracy')\n",
    "plt.legend(loc='lower right')\n",
    "plt.title('Training Accuracy')\n",
    "\n",
    "plt.subplot(1, 2, 2)\n",
    "plt.plot(epochs_range, loss, label='Training Loss')\n",
    "plt.legend(loc='upper right')\n",
    "plt.title('Training Loss')\n",
    "plt.show()"
   ]
  },
  {
   "cell_type": "markdown",
   "metadata": {},
   "source": [
    "d. [10 Pnts] How many parameters in the model implemented in b?"
   ]
  },
  {
   "cell_type": "markdown",
   "metadata": {},
   "source": [
    "### 100 + 1000 = 1100 weights to train for neurons in the network"
   ]
  },
  {
   "cell_type": "markdown",
   "metadata": {},
   "source": [
    "e. [10 Pnts] At which epoch your model starts to overfit? Do you think early stopping would be a good solution to avoid overfitting in this case, explain?"
   ]
  },
  {
   "cell_type": "markdown",
   "metadata": {},
   "source": [
    "### I do not think the model is overfitting. Training and test accuracy are almost the same. In this case, early stopping is not necessary to prevent overfitting, because it is not occurring."
   ]
  },
  {
   "cell_type": "markdown",
   "metadata": {
    "nbpresent": {
     "id": "342e80f3-8091-415c-b362-61cd2365ff7d"
    }
   },
   "source": [
    "f. [40 pts] You must have noticed that one needs to set several parameters—such as the number of hidden layers, the number of neurons in each hidden layer, the non-linearity or activation function to be used, etc. These quantities are known as the hyper-parameters of the network. They need to be specified by the user creating the neural network model.\n",
    "\n",
    "In this task, you will evaluate the performance of your network for varying values of hyperparameters. Keeping the rest of the values constant (and equal to the default values), adjust the values of parameters as described below. Find the performance (accuracy) of your model on the validation set and plot a trend graph for each of the following.\n",
    "\n",
    "- Batch size: 32, 64, 128 (default 32).\n",
    "- Number of hidden layers: 1, 2, 4 (default 2).\n",
    "- SGD optimizer, Learning Rate: 0.001, 0.01, 0.1, 1 (default 0.01).\n",
    "- Use 10 epochs for all the experiments.\n",
    "- activation function Relu for all the experiments.\n",
    "\n",
    "Use these values to create the most successful model you can (evaluated based on validation scores) and report its accuracy on the test data. Keep all other hyperparameters (number of epochs, activation function, etc.) at their default settings. "
   ]
  },
  {
   "cell_type": "code",
   "execution_count": 62,
   "metadata": {},
   "outputs": [
    {
     "name": "stdout",
     "output_type": "stream",
     "text": [
      "Epoch 1/5\n",
      "40000/40000 [==============================] - 8s 195us/step - loss: 0.3321 - acc: 0.9000\n",
      "Epoch 2/5\n",
      "40000/40000 [==============================] - 5s 132us/step - loss: 0.3249 - acc: 0.9000\n",
      "Epoch 3/5\n",
      "40000/40000 [==============================] - 6s 142us/step - loss: 0.3223 - acc: 0.9000\n",
      "Epoch 4/5\n",
      "40000/40000 [==============================] - 6s 160us/step - loss: 0.3203 - acc: 0.9000\n",
      "Epoch 5/5\n",
      "40000/40000 [==============================] - 6s 144us/step - loss: 0.3184 - acc: 0.9000\n",
      "Epoch 1/5\n",
      "40000/40000 [==============================] - 7s 176us/step - loss: 0.3053 - acc: 0.8991\n",
      "Epoch 2/5\n",
      "40000/40000 [==============================] - 6s 152us/step - loss: 0.2841 - acc: 0.9004\n",
      "Epoch 3/5\n",
      "40000/40000 [==============================] - 6s 143us/step - loss: 0.2781 - acc: 0.9006\n",
      "Epoch 4/5\n",
      "40000/40000 [==============================] - 6s 152us/step - loss: 0.2729 - acc: 0.9016\n",
      "Epoch 5/5\n",
      "40000/40000 [==============================] - 5s 137us/step - loss: 0.2714 - acc: 0.9016 0s - loss: 0.2716 - acc: 0.90\n"
     ]
    },
    {
     "data": {
      "image/png": "[encoded data removed]",
      "text/plain": [
       "<Figure size 576x576 with 1 Axes>"
      ]
     },
     "metadata": {
      "needs_background": "light"
     },
     "output_type": "display_data"
    }
   ],
   "source": [
    "model1 = Sequential([\n",
    "    Flatten(input_shape=(32,32,3)),\n",
    "    Dense(100),\n",
    "    Activation('relu'),\n",
    "    Dense(10),\n",
    "    Activation('softmax'),\n",
    "])\n",
    "\n",
    "model2 = Sequential([\n",
    "    Flatten(input_shape=(32,32,3)),\n",
    "    Dense(100),\n",
    "    Activation('relu'),\n",
    "    Dense(100),\n",
    "    Activation('relu'),\n",
    "    Dense(10),\n",
    "    Activation('softmax'),\n",
    "])\n",
    "\n",
    "model3 = Sequential([\n",
    "    Flatten(input_shape=(32,32,3)),\n",
    "    Dense(100),\n",
    "    Activation('relu'),\n",
    "    Dense(100),\n",
    "    Activation('relu'),\n",
    "    Dense(100),\n",
    "    Activation('relu'),\n",
    "    Dense(100),\n",
    "    Activation('relu'),\n",
    "    Dense(10),\n",
    "    Activation('softmax'),\n",
    "])\n",
    "\n",
    "opt1 = SGD(lr=0.001)\n",
    "opt2 = SGD(lr=0.01)\n",
    "opt3 = SGD(lr=0.1)\n",
    "opt4 = SGD(lr=1)\n",
    "opts = [opt1,opt4]\n",
    "\n",
    "\n",
    "epochs_range = range(5)\n",
    "plt.figure(figsize=(8, 8))\n",
    "\n",
    "for opt in opts:\n",
    "    model1.compile(loss='binary_crossentropy', optimizer=opt, metrics=['accuracy'])\n",
    "    history = model1.fit(xtrain, ytrain_1hot, epochs=5, batch_size=128)\n",
    "    acc = history.history['acc']\n",
    "    plt.plot(epochs_range, acc, label='Training Accuracy')\n",
    "plt.legend(loc='lower right')\n",
    "plt.title('Training Accuracy')\n",
    "plt.show()"
   ]
  },
  {
   "cell_type": "markdown",
   "metadata": {
    "collapsed": true
   },
   "source": [
    "## Par2 (This part is for Graduate students only, it is optional for undergraduates with extra cridets )"
   ]
  },
  {
   "cell_type": "markdown",
   "metadata": {},
   "source": [
    "In this part you are going to train a convolutional neural network on CIFAR-10  dataset from part 1, refer to part1 to use same training, validation and testing datasets splits. "
   ]
  },
  {
   "cell_type": "markdown",
   "metadata": {},
   "source": [
    "a. [30 points] Define the model as indicated in the code below. The model is defined as follows:\n",
    "\n",
    "- An input that is 32x32x3 dimensional vector.\n",
    "- Reshape the input as 32x32x3 images (it is a dataset with color images)\n",
    "- A convolutional layer with 32 filters of shape 12x12x3 and a ReLU non-linearity (with stride (2, 2) and no padding)\n",
    "- A convolutional layer with 64 filters of shape 5x5x32 and a ReLU non-linearity (with stride (1, 2) and padding to maintain size)\n",
    "- A max_pooling layer of shape 2x2\n",
    "- A fully connected layer taking all the outputs of the max_pooling layer to 1024 units and ReLU nonlinearity\n",
    "- A fully connected layer taking 1024 units to 10 no activation function (the softmax non-linearity will be included in the loss function rather than in the model) \n",
    "- Use AdamOptimizer \n",
    "- use the Accuracy as your metric... Accuray is simply defined as the fraction of data correctly classified\n",
    "- initially pick the learning rate to be 0.05 (if this learning rate does not work, pick different learning rate) with decay step of 0.95 every 2000 iterations\n",
    "\n",
    "\n",
    "write the code to train the model written, train for 15 epochs with a  batch size of 128. \n",
    "\n",
    "\n",
    "\n",
    "\n",
    "Hint: start from known architecture then modify the code to match the numbers listed above."
   ]
  },
  {
   "cell_type": "markdown",
   "metadata": {},
   "source": [
    "b. [10 points] Find better convolutional neural network architecture that give better results (at least enhancment of 5.0%) than the one built in part a (prove experimentally). "
   ]
  },
  {
   "cell_type": "code",
   "execution_count": null,
   "metadata": {},
   "outputs": [],
   "source": []
  }
 ],
 "metadata": {
  "kernelspec": {
   "display_name": "Python 3",
   "language": "python",
   "name": "python3"
  },
  "language_info": {
   "codemirror_mode": {
    "name": "ipython",
    "version": 3
   },
   "file_extension": ".py",
   "mimetype": "text/x-python",
   "name": "python",
   "nbconvert_exporter": "python",
   "pygments_lexer": "ipython3",
   "version": "3.7.5"
  }
 },
 "nbformat": 4,
 "nbformat_minor": 2
}
